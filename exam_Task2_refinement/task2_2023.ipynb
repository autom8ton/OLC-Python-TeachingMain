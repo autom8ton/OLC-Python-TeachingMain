{
 "cells": [
  {
   "cell_type": "code",
   "execution_count": null,
   "id": "aaa1eab1",
   "metadata": {},
   "outputs": [],
   "source": [
    "num_of_animals = 5 \n",
    "\n",
    "for x in range(num_of_animals): \n",
    "    p1_animal = input(\"Player 1, please enter an animal: \") \n",
    "    p1_animal = p1_animal.lower() \n",
    "    p2_guess = input(\"Player 2, please enter your guess: \") \n",
    "    p2_guess = p2_guess.lower() "
   ]
  },
  {
   "cell_type": "code",
   "execution_count": 4,
   "id": "69f18d96",
   "metadata": {},
   "outputs": [
    {
     "name": "stdout",
     "output_type": "stream",
     "text": [
      "Adding tiger to list.\n",
      "Adding lion to list.\n",
      "Adding cheetah to list.\n",
      "Ending turn for Player 1.\n",
      "['tiger', 'lion', 'cheetah']\n"
     ]
    }
   ],
   "source": [
    "# Task 1.1\n",
    "num_of_animals = 5 \n",
    "p1_list = [] # init an empty list\n",
    "\n",
    "## ask again and again\n",
    "while True: # infinite loop\n",
    "    p1_animal = input(\"Player 1, please enter an animal. Press q to stop: \").lower()\n",
    "\n",
    "    # code to break out of the loop\n",
    "    if p1_animal == \"q\":\n",
    "        print(\"Ending turn for Player 1.\")\n",
    "        break\n",
    "    else:\n",
    "        p1_list.append(p1_animal)\n",
    "        print(f\"Adding {p1_animal} to list.\")\n",
    "\n",
    "# test\n",
    "print(p1_list)\n",
    "\n",
    "p2_guess = input(\"Player 2, please enter your guess: \") \n",
    "p2_guess = p2_guess.lower() "
   ]
  },
  {
   "cell_type": "code",
   "execution_count": null,
   "id": "d4d23441",
   "metadata": {},
   "outputs": [],
   "source": [
    "# Task 1.3\n",
    "animal_list = []\n",
    "p2_Score = 0\n",
    "\n",
    "while True:\n",
    "    p1_animal = input(\"Player 1, please enter an animal(To quit enter Q): \").upper()\n",
    "\n",
    "    if p1_animal == \"Q\":\n",
    "        print(\"Player one ending turn\")\n",
    "        break\n",
    "    else:\n",
    "        animal_list.append(p1_animal)\n",
    "\n",
    "# print(p1_animal) # testing\n",
    "\n",
    "while True:\n",
    "    p2_guess = input(\"Player 2, please enter your guess: \").upper()\n",
    "\n",
    "    if p2_guess in animal_list:\n",
    "        print(\"You guessed a animal succesfully\")\n",
    "        animal_list.remove(p2_guess)\n",
    "        p2_Score = p2_Score +1\n",
    "    else:\n",
    "        print(f\"Player 2 your score is {p2_Score} and the animals left in the list were {animal_list}\")\n",
    "        break\n",
    "    if animal_list == []:\n",
    "        print(f\"You have guessed all the animals your score is {p2_Score}\")\n",
    "        break"
   ]
  }
 ],
 "metadata": {
  "kernelspec": {
   "display_name": ".venv",
   "language": "python",
   "name": "python3"
  },
  "language_info": {
   "codemirror_mode": {
    "name": "ipython",
    "version": 3
   },
   "file_extension": ".py",
   "mimetype": "text/x-python",
   "name": "python",
   "nbconvert_exporter": "python",
   "pygments_lexer": "ipython3",
   "version": "3.11.2"
  }
 },
 "nbformat": 4,
 "nbformat_minor": 5
}
