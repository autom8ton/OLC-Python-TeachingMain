{
 "cells": [
  {
   "cell_type": "markdown",
   "id": "65777dab",
   "metadata": {},
   "source": [
    "A mathematics program shown on page 7 creates 10 questions.\n",
    "\n",
    "Each question is created by generating two random integers between 1 and 50 inclusive and adding them.\n",
    "\n",
    "The program:\n",
    "·       outputs the questions\n",
    "·       allows the user to input their answer to each question\n",
    "·       outputs the user's total mark and the number of correct answers\n",
    "·       alters the output based on whether 1 or multiple correct answers are given.\n",
    "\n",
    "If both random integers are greater than 25, the user gets 2 marks for a correct answer, otherwise, the user gets 1 mark for a correct answer.\n",
    "\n",
    "If the user enters a correct answer:\n",
    "·       the total mark is incremented by the correct amount\n",
    "·       the text \"Correct\" is stored in a list, otherwise, the text \"Incorrect\" is stored in the list.\n",
    "\n",
    "When all questions have been answered, the list is searched to count how many times \"Correct\" is stored."
   ]
  },
  {
   "cell_type": "code",
   "execution_count": null,
   "id": "25faff64",
   "metadata": {},
   "outputs": [
    {
     "ename": "SyntaxError",
     "evalue": "invalid character '“' (U+201C) (405399600.py, line 17)",
     "output_type": "error",
     "traceback": [
      "  \u001b[36mCell\u001b[39m\u001b[36m \u001b[39m\u001b[32mIn[2]\u001b[39m\u001b[32m, line 17\u001b[39m\n\u001b[31m    \u001b[39m\u001b[31manswer_list = answer_list + [“Correct”]\u001b[39m\n                                 ^\n\u001b[31mSyntaxError\u001b[39m\u001b[31m:\u001b[39m invalid character '“' (U+201C)\n"
     ]
    }
   ],
   "source": [
    "# The original buggy code\n",
    "\n",
    "import random\n",
    "questions = 10\n",
    "answer_list = []\n",
    "correct = 0\n",
    "incorrect = 0\n",
    "total_mark = 0\n",
    "for x in range(questions - 1):\n",
    "    num1 = random.randint(1, 50)\n",
    "    num2 = random.randint(1, 50)\n",
    "    print(\"What is\", num1, \"+\", num2, \"?\")\n",
    "    user_answer = input()\n",
    "    if user_answer == answer:\n",
    "        if num1 > 25 or num2 > 25:\n",
    "            total_mark = total_mark + 2\n",
    "            answer_list = answer_list + [“Correct”]\n",
    "        else:\n",
    "            total_mark = total_mark + 1\n",
    "    else:\n",
    "        answer_list = answer_list + [\"Incorrect\"]\n",
    "list_length = len(answer_list – 1)\n",
    "for i in range(list_length):\n",
    "    if answer_list[x] == \"Correct\":\n",
    "        correct = correct - 1\n",
    "if message  == 1:\n",
    "    message = \"answer.\"\n",
    "else:\n",
    "    message = \"answers.\"\n",
    "print(\"Your total mark is\", total_mark, \"and you had\", correct, message)\n"
   ]
  },
  {
   "cell_type": "code",
   "execution_count": 8,
   "id": "50b10c13",
   "metadata": {},
   "outputs": [
    {
     "name": "stdout",
     "output_type": "stream",
     "text": [
      "What is 4 + 2 ?\n",
      "What is 5 + 3 ?\n",
      "What is 1 + 6 ?\n",
      "What is 5 + 1 ?\n",
      "What is 8 + 8 ?\n",
      "What is 4 + 7 ?\n",
      "What is 8 + 1 ?\n",
      "What is 8 + 7 ?\n",
      "What is 1 + 1 ?\n"
     ]
    },
    {
     "ename": "TypeError",
     "evalue": "unsupported operand type(s) for -: 'list' and 'int'",
     "output_type": "error",
     "traceback": [
      "\u001b[31m---------------------------------------------------------------------------\u001b[39m",
      "\u001b[31mTypeError\u001b[39m                                 Traceback (most recent call last)",
      "\u001b[36mCell\u001b[39m\u001b[36m \u001b[39m\u001b[32mIn[8]\u001b[39m\u001b[32m, line 23\u001b[39m\n\u001b[32m     21\u001b[39m     \u001b[38;5;28;01melse\u001b[39;00m:\n\u001b[32m     22\u001b[39m         answer_list = answer_list + [\u001b[33m\"\u001b[39m\u001b[33mIncorrect\u001b[39m\u001b[33m\"\u001b[39m]\n\u001b[32m---> \u001b[39m\u001b[32m23\u001b[39m list_length = \u001b[38;5;28mlen\u001b[39m(\u001b[43manswer_list\u001b[49m\u001b[43m \u001b[49m\u001b[43m-\u001b[49m\u001b[43m \u001b[49m\u001b[32;43m1\u001b[39;49m) \u001b[38;5;66;03m# 2. fixed wrong minus sign\u001b[39;00m\n\u001b[32m     24\u001b[39m \u001b[38;5;28;01mfor\u001b[39;00m i \u001b[38;5;129;01min\u001b[39;00m \u001b[38;5;28mrange\u001b[39m(list_length):\n\u001b[32m     25\u001b[39m     \u001b[38;5;28;01mif\u001b[39;00m answer_list[x] == \u001b[33m\"\u001b[39m\u001b[33mCorrect\u001b[39m\u001b[33m\"\u001b[39m:\n",
      "\u001b[31mTypeError\u001b[39m: unsupported operand type(s) for -: 'list' and 'int'"
     ]
    }
   ],
   "source": [
    "# Answer for Debugging Task 3 Question\n",
    "\n",
    "import random\n",
    "questions = 10\n",
    "answer_list = []\n",
    "correct = 0\n",
    "incorrect = 0\n",
    "total_mark = 0\n",
    "for x in range(questions - 1):\n",
    "    num1 = random.randint(1, 10) # temp change this to 1 - 10\n",
    "    num2 = random.randint(1, 10) # temp change this to 1 - 10\n",
    "    answer = num1 + num2 # 3. missing variable for answer\n",
    "    print(\"What is\", num1, \"+\", num2, \"?\")\n",
    "    user_answer = input()\n",
    "    if user_answer == answer:\n",
    "        if num1 > 25 or num2 > 25:\n",
    "            total_mark = total_mark + 2\n",
    "            answer_list = answer_list + [\"Correct\"] # 1. fixed wrong quotation mark\n",
    "        else:\n",
    "            total_mark = total_mark + 1\n",
    "    else:\n",
    "        answer_list = answer_list + [\"Incorrect\"]\n",
    "list_length = len(answer_list - 1) # 2. fixed wrong minus sign\n",
    "for i in range(list_length):\n",
    "    if answer_list[x] == \"Correct\":\n",
    "        correct = correct - 1\n",
    "if message  == 1:\n",
    "    message = \"answer.\"\n",
    "else:\n",
    "    message = \"answers.\"\n",
    "print(\"Your total mark is\", total_mark, \"and you had\", correct, message)\n"
   ]
  }
 ],
 "metadata": {
  "kernelspec": {
   "display_name": ".venv",
   "language": "python",
   "name": "python3"
  },
  "language_info": {
   "codemirror_mode": {
    "name": "ipython",
    "version": 3
   },
   "file_extension": ".py",
   "mimetype": "text/x-python",
   "name": "python",
   "nbconvert_exporter": "python",
   "pygments_lexer": "ipython3",
   "version": "3.11.2"
  }
 },
 "nbformat": 4,
 "nbformat_minor": 5
}
